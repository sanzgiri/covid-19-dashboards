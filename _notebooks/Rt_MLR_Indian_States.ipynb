{
 "cells": [
  {
   "cell_type": "markdown",
   "id": "quiet-final",
   "metadata": {
    "papermill": {
     "duration": 0.018022,
     "end_time": "2022-04-07T03:45:53.189216",
     "exception": false,
     "start_time": "2022-04-07T03:45:53.171194",
     "status": "completed"
    },
    "tags": []
   },
   "source": [
    "# \"Linear Regression for R_t (difference) for Indian States\"\n",
    "> \"Linear Regression for R_t (difference) for Indian States\"\n",
    "\n",
    "- toc: true\n",
    "- branch: master\n",
    "- badges: true\n",
    "- comments: true\n",
    "- author: Ashutosh Sanzgiri\n",
    "- categories: [covid]"
   ]
  },
  {
   "cell_type": "markdown",
   "id": "complete-timeline",
   "metadata": {
    "papermill": {
     "duration": 0.013212,
     "end_time": "2022-04-07T03:45:53.216422",
     "exception": false,
     "start_time": "2022-04-07T03:45:53.203210",
     "status": "completed"
    },
    "tags": []
   },
   "source": [
    "We run a linear regression for the difference in R_t for 15 states in India over a period from April 2nd and May 9th. The endogenous variable is the difference in Rt. The exogenous variables are difference in Covid19 testing rates, the Human Development Index for the state, the Governance Index for the state and the per Capita Health Care Expenditure in the state."
   ]
  },
  {
   "cell_type": "code",
   "execution_count": 1,
   "id": "responsible-persian",
   "metadata": {
    "execution": {
     "iopub.execute_input": "2022-04-07T03:45:53.246705Z",
     "iopub.status.busy": "2022-04-07T03:45:53.246084Z",
     "iopub.status.idle": "2022-04-07T03:45:53.248512Z",
     "shell.execute_reply": "2022-04-07T03:45:53.247909Z"
    },
    "papermill": {
     "duration": 0.019278,
     "end_time": "2022-04-07T03:45:53.248651",
     "exception": false,
     "start_time": "2022-04-07T03:45:53.229373",
     "status": "completed"
    },
    "tags": []
   },
   "outputs": [],
   "source": [
    "#!pip install statsmodels"
   ]
  },
  {
   "cell_type": "code",
   "execution_count": 2,
   "id": "classified-drunk",
   "metadata": {
    "execution": {
     "iopub.execute_input": "2022-04-07T03:45:53.285006Z",
     "iopub.status.busy": "2022-04-07T03:45:53.284440Z",
     "iopub.status.idle": "2022-04-07T03:45:54.365562Z",
     "shell.execute_reply": "2022-04-07T03:45:54.366043Z"
    },
    "papermill": {
     "duration": 1.103845,
     "end_time": "2022-04-07T03:45:54.366209",
     "exception": false,
     "start_time": "2022-04-07T03:45:53.262364",
     "status": "completed"
    },
    "tags": []
   },
   "outputs": [],
   "source": [
    "import pandas as pd\n",
    "import statsmodels.api as sm"
   ]
  },
  {
   "cell_type": "markdown",
   "id": "asian-holly",
   "metadata": {
    "papermill": {
     "duration": 0.013126,
     "end_time": "2022-04-07T03:45:54.393102",
     "exception": false,
     "start_time": "2022-04-07T03:45:54.379976",
     "status": "completed"
    },
    "tags": []
   },
   "source": [
    "#### Load india_state_data worksheet"
   ]
  },
  {
   "cell_type": "code",
   "execution_count": 3,
   "id": "trained-commons",
   "metadata": {
    "execution": {
     "iopub.execute_input": "2022-04-07T03:45:54.424201Z",
     "iopub.status.busy": "2022-04-07T03:45:54.423650Z",
     "iopub.status.idle": "2022-04-07T03:45:54.432024Z",
     "shell.execute_reply": "2022-04-07T03:45:54.431580Z"
    },
    "papermill": {
     "duration": 0.025969,
     "end_time": "2022-04-07T03:45:54.432140",
     "exception": false,
     "start_time": "2022-04-07T03:45:54.406171",
     "status": "completed"
    },
    "tags": []
   },
   "outputs": [],
   "source": [
    "ind_data = pd.read_csv('india_state_data.csv')"
   ]
  },
  {
   "cell_type": "code",
   "execution_count": 4,
   "id": "buried-montgomery",
   "metadata": {
    "execution": {
     "iopub.execute_input": "2022-04-07T03:45:54.464074Z",
     "iopub.status.busy": "2022-04-07T03:45:54.463500Z",
     "iopub.status.idle": "2022-04-07T03:45:54.467790Z",
     "shell.execute_reply": "2022-04-07T03:45:54.467348Z"
    },
    "papermill": {
     "duration": 0.022777,
     "end_time": "2022-04-07T03:45:54.467906",
     "exception": false,
     "start_time": "2022-04-07T03:45:54.445129",
     "status": "completed"
    },
    "tags": []
   },
   "outputs": [],
   "source": [
    "ind_data = ind_data.rename(columns={'diff': 'rt_diff', 'testing2ndapr':'test1', 'test 9may': 'test2'})\n",
    "ind_data['test_diff'] = ind_data['test2'] - ind_data['test1']"
   ]
  },
  {
   "cell_type": "code",
   "execution_count": 5,
   "id": "nonprofit-rehabilitation",
   "metadata": {
    "execution": {
     "iopub.execute_input": "2022-04-07T03:45:54.504947Z",
     "iopub.status.busy": "2022-04-07T03:45:54.504407Z",
     "iopub.status.idle": "2022-04-07T03:45:54.520370Z",
     "shell.execute_reply": "2022-04-07T03:45:54.519938Z"
    },
    "papermill": {
     "duration": 0.039398,
     "end_time": "2022-04-07T03:45:54.520489",
     "exception": false,
     "start_time": "2022-04-07T03:45:54.481091",
     "status": "completed"
    },
    "tags": []
   },
   "outputs": [
    {
     "data": {
      "text/html": [
       "<div>\n",
       "<style scoped>\n",
       "    .dataframe tbody tr th:only-of-type {\n",
       "        vertical-align: middle;\n",
       "    }\n",
       "\n",
       "    .dataframe tbody tr th {\n",
       "        vertical-align: top;\n",
       "    }\n",
       "\n",
       "    .dataframe thead th {\n",
       "        text-align: right;\n",
       "    }\n",
       "</style>\n",
       "<table border=\"1\" class=\"dataframe\">\n",
       "  <thead>\n",
       "    <tr style=\"text-align: right;\">\n",
       "      <th></th>\n",
       "      <th>States</th>\n",
       "      <th>Rt2ndapril</th>\n",
       "      <th>Rt9may</th>\n",
       "      <th>rt_diff</th>\n",
       "      <th>test1</th>\n",
       "      <th>test2</th>\n",
       "      <th>test diff</th>\n",
       "      <th>log(test diff)</th>\n",
       "      <th>hdi</th>\n",
       "      <th>governance</th>\n",
       "      <th>pche</th>\n",
       "      <th>interaction</th>\n",
       "      <th>test_diff</th>\n",
       "    </tr>\n",
       "  </thead>\n",
       "  <tbody>\n",
       "    <tr>\n",
       "      <th>0</th>\n",
       "      <td>AP</td>\n",
       "      <td>2.18</td>\n",
       "      <td>0.98</td>\n",
       "      <td>1.20</td>\n",
       "      <td>21</td>\n",
       "      <td>3121</td>\n",
       "      <td>3100</td>\n",
       "      <td>8.039</td>\n",
       "      <td>0.650</td>\n",
       "      <td>5.05</td>\n",
       "      <td>1013</td>\n",
       "      <td>5.225349</td>\n",
       "      <td>3100</td>\n",
       "    </tr>\n",
       "    <tr>\n",
       "      <th>1</th>\n",
       "      <td>BR</td>\n",
       "      <td>1.72</td>\n",
       "      <td>1.10</td>\n",
       "      <td>0.62</td>\n",
       "      <td>25</td>\n",
       "      <td>286</td>\n",
       "      <td>261</td>\n",
       "      <td>5.565</td>\n",
       "      <td>0.576</td>\n",
       "      <td>4.40</td>\n",
       "      <td>491</td>\n",
       "      <td>3.205440</td>\n",
       "      <td>261</td>\n",
       "    </tr>\n",
       "    <tr>\n",
       "      <th>2</th>\n",
       "      <td>DL</td>\n",
       "      <td>2.05</td>\n",
       "      <td>1.12</td>\n",
       "      <td>0.93</td>\n",
       "      <td>143</td>\n",
       "      <td>4591</td>\n",
       "      <td>4448</td>\n",
       "      <td>8.400</td>\n",
       "      <td>0.746</td>\n",
       "      <td>5.62</td>\n",
       "      <td>1992</td>\n",
       "      <td>6.266400</td>\n",
       "      <td>4448</td>\n",
       "    </tr>\n",
       "    <tr>\n",
       "      <th>3</th>\n",
       "      <td>GJ</td>\n",
       "      <td>1.35</td>\n",
       "      <td>1.06</td>\n",
       "      <td>0.29</td>\n",
       "      <td>66</td>\n",
       "      <td>1716</td>\n",
       "      <td>1650</td>\n",
       "      <td>7.409</td>\n",
       "      <td>0.672</td>\n",
       "      <td>5.04</td>\n",
       "      <td>1189</td>\n",
       "      <td>4.978848</td>\n",
       "      <td>1650</td>\n",
       "    </tr>\n",
       "    <tr>\n",
       "      <th>4</th>\n",
       "      <td>HR</td>\n",
       "      <td>1.96</td>\n",
       "      <td>1.15</td>\n",
       "      <td>0.81</td>\n",
       "      <td>48</td>\n",
       "      <td>1945</td>\n",
       "      <td>1897</td>\n",
       "      <td>7.548</td>\n",
       "      <td>0.708</td>\n",
       "      <td>5.00</td>\n",
       "      <td>1119</td>\n",
       "      <td>5.343984</td>\n",
       "      <td>1897</td>\n",
       "    </tr>\n",
       "  </tbody>\n",
       "</table>\n",
       "</div>"
      ],
      "text/plain": [
       "  States  Rt2ndapril  Rt9may  rt_diff  test1  test2  test diff  \\\n",
       "0     AP        2.18    0.98     1.20     21   3121       3100   \n",
       "1     BR        1.72    1.10     0.62     25    286        261   \n",
       "2     DL        2.05    1.12     0.93    143   4591       4448   \n",
       "3     GJ        1.35    1.06     0.29     66   1716       1650   \n",
       "4     HR        1.96    1.15     0.81     48   1945       1897   \n",
       "\n",
       "   log(test diff)    hdi  governance  pche  interaction  test_diff  \n",
       "0           8.039  0.650        5.05  1013     5.225349       3100  \n",
       "1           5.565  0.576        4.40   491     3.205440        261  \n",
       "2           8.400  0.746        5.62  1992     6.266400       4448  \n",
       "3           7.409  0.672        5.04  1189     4.978848       1650  \n",
       "4           7.548  0.708        5.00  1119     5.343984       1897  "
      ]
     },
     "execution_count": 5,
     "metadata": {},
     "output_type": "execute_result"
    }
   ],
   "source": [
    "ind_data.head()"
   ]
  },
  {
   "cell_type": "code",
   "execution_count": 6,
   "id": "earned-catalyst",
   "metadata": {
    "execution": {
     "iopub.execute_input": "2022-04-07T03:45:54.554657Z",
     "iopub.status.busy": "2022-04-07T03:45:54.554098Z",
     "iopub.status.idle": "2022-04-07T03:45:54.558007Z",
     "shell.execute_reply": "2022-04-07T03:45:54.558398Z"
    },
    "papermill": {
     "duration": 0.024407,
     "end_time": "2022-04-07T03:45:54.558542",
     "exception": false,
     "start_time": "2022-04-07T03:45:54.534135",
     "status": "completed"
    },
    "tags": []
   },
   "outputs": [
    {
     "data": {
      "text/plain": [
       "Index(['rt_diff', 'test_diff', 'hdi', 'governance', 'pche'], dtype='object')"
      ]
     },
     "execution_count": 6,
     "metadata": {},
     "output_type": "execute_result"
    }
   ],
   "source": [
    "ind_data2 = ind_data[['rt_diff', 'test_diff', 'hdi', 'governance', 'pche']].copy()\n",
    "ind_data2.columns"
   ]
  },
  {
   "cell_type": "code",
   "execution_count": 7,
   "id": "civic-charity",
   "metadata": {
    "execution": {
     "iopub.execute_input": "2022-04-07T03:45:54.596984Z",
     "iopub.status.busy": "2022-04-07T03:45:54.596464Z",
     "iopub.status.idle": "2022-04-07T03:45:54.600312Z",
     "shell.execute_reply": "2022-04-07T03:45:54.600698Z"
    },
    "papermill": {
     "duration": 0.028265,
     "end_time": "2022-04-07T03:45:54.600830",
     "exception": false,
     "start_time": "2022-04-07T03:45:54.572565",
     "status": "completed"
    },
    "tags": []
   },
   "outputs": [
    {
     "data": {
      "text/html": [
       "<div>\n",
       "<style scoped>\n",
       "    .dataframe tbody tr th:only-of-type {\n",
       "        vertical-align: middle;\n",
       "    }\n",
       "\n",
       "    .dataframe tbody tr th {\n",
       "        vertical-align: top;\n",
       "    }\n",
       "\n",
       "    .dataframe thead th {\n",
       "        text-align: right;\n",
       "    }\n",
       "</style>\n",
       "<table border=\"1\" class=\"dataframe\">\n",
       "  <thead>\n",
       "    <tr style=\"text-align: right;\">\n",
       "      <th></th>\n",
       "      <th>rt_diff</th>\n",
       "      <th>test_diff</th>\n",
       "      <th>hdi</th>\n",
       "      <th>governance</th>\n",
       "      <th>pche</th>\n",
       "    </tr>\n",
       "  </thead>\n",
       "  <tbody>\n",
       "    <tr>\n",
       "      <th>0</th>\n",
       "      <td>1.20</td>\n",
       "      <td>3100</td>\n",
       "      <td>0.650</td>\n",
       "      <td>5.05</td>\n",
       "      <td>1013</td>\n",
       "    </tr>\n",
       "    <tr>\n",
       "      <th>1</th>\n",
       "      <td>0.62</td>\n",
       "      <td>261</td>\n",
       "      <td>0.576</td>\n",
       "      <td>4.40</td>\n",
       "      <td>491</td>\n",
       "    </tr>\n",
       "    <tr>\n",
       "      <th>2</th>\n",
       "      <td>0.93</td>\n",
       "      <td>4448</td>\n",
       "      <td>0.746</td>\n",
       "      <td>5.62</td>\n",
       "      <td>1992</td>\n",
       "    </tr>\n",
       "    <tr>\n",
       "      <th>3</th>\n",
       "      <td>0.29</td>\n",
       "      <td>1650</td>\n",
       "      <td>0.672</td>\n",
       "      <td>5.04</td>\n",
       "      <td>1189</td>\n",
       "    </tr>\n",
       "    <tr>\n",
       "      <th>4</th>\n",
       "      <td>0.81</td>\n",
       "      <td>1897</td>\n",
       "      <td>0.708</td>\n",
       "      <td>5.00</td>\n",
       "      <td>1119</td>\n",
       "    </tr>\n",
       "  </tbody>\n",
       "</table>\n",
       "</div>"
      ],
      "text/plain": [
       "   rt_diff  test_diff    hdi  governance  pche\n",
       "0     1.20       3100  0.650        5.05  1013\n",
       "1     0.62        261  0.576        4.40   491\n",
       "2     0.93       4448  0.746        5.62  1992\n",
       "3     0.29       1650  0.672        5.04  1189\n",
       "4     0.81       1897  0.708        5.00  1119"
      ]
     },
     "execution_count": 7,
     "metadata": {},
     "output_type": "execute_result"
    }
   ],
   "source": [
    "ind_data2.head()"
   ]
  },
  {
   "cell_type": "markdown",
   "id": "broadband-factory",
   "metadata": {
    "papermill": {
     "duration": 0.013924,
     "end_time": "2022-04-07T03:45:54.629975",
     "exception": false,
     "start_time": "2022-04-07T03:45:54.616051",
     "status": "completed"
    },
    "tags": []
   },
   "source": [
    "### MinMax Normalization of all columns"
   ]
  },
  {
   "cell_type": "code",
   "execution_count": 8,
   "id": "latter-yesterday",
   "metadata": {
    "execution": {
     "iopub.execute_input": "2022-04-07T03:45:54.667247Z",
     "iopub.status.busy": "2022-04-07T03:45:54.666641Z",
     "iopub.status.idle": "2022-04-07T03:45:54.670266Z",
     "shell.execute_reply": "2022-04-07T03:45:54.670647Z"
    },
    "papermill": {
     "duration": 0.026774,
     "end_time": "2022-04-07T03:45:54.670771",
     "exception": false,
     "start_time": "2022-04-07T03:45:54.643997",
     "status": "completed"
    },
    "tags": []
   },
   "outputs": [],
   "source": [
    "for c in ind_data2.columns.values:\n",
    "    mmin = ind_data2[c].min()\n",
    "    mmax = ind_data2[c].max()\n",
    "    ind_data2[c] = (ind_data2[c] - mmin) / (mmax-mmin)"
   ]
  },
  {
   "cell_type": "code",
   "execution_count": 9,
   "id": "mineral-crisis",
   "metadata": {
    "execution": {
     "iopub.execute_input": "2022-04-07T03:45:54.703739Z",
     "iopub.status.busy": "2022-04-07T03:45:54.703215Z",
     "iopub.status.idle": "2022-04-07T03:45:54.705304Z",
     "shell.execute_reply": "2022-04-07T03:45:54.705686Z"
    },
    "papermill": {
     "duration": 0.021099,
     "end_time": "2022-04-07T03:45:54.705806",
     "exception": false,
     "start_time": "2022-04-07T03:45:54.684707",
     "status": "completed"
    },
    "tags": []
   },
   "outputs": [],
   "source": [
    "y = ind_data2.rt_diff.values\n",
    "X = ind_data2[['test_diff', 'hdi', 'governance', 'pche']]"
   ]
  },
  {
   "cell_type": "code",
   "execution_count": 10,
   "id": "optimum-silver",
   "metadata": {
    "execution": {
     "iopub.execute_input": "2022-04-07T03:45:54.738792Z",
     "iopub.status.busy": "2022-04-07T03:45:54.738278Z",
     "iopub.status.idle": "2022-04-07T03:45:54.751901Z",
     "shell.execute_reply": "2022-04-07T03:45:54.752309Z"
    },
    "papermill": {
     "duration": 0.032557,
     "end_time": "2022-04-07T03:45:54.752427",
     "exception": false,
     "start_time": "2022-04-07T03:45:54.719870",
     "status": "completed"
    },
    "tags": []
   },
   "outputs": [
    {
     "name": "stdout",
     "output_type": "stream",
     "text": [
      "                                 OLS Regression Results                                \n",
      "=======================================================================================\n",
      "Dep. Variable:                      y   R-squared (uncentered):                   0.732\n",
      "Model:                            OLS   Adj. R-squared (uncentered):              0.634\n",
      "Method:                 Least Squares   F-statistic:                              7.505\n",
      "Date:                Thu, 07 Apr 2022   Prob (F-statistic):                     0.00361\n",
      "Time:                        03:45:54   Log-Likelihood:                        -0.89814\n",
      "No. Observations:                  15   AIC:                                      9.796\n",
      "Df Residuals:                      11   BIC:                                      12.63\n",
      "Df Model:                           4                                                  \n",
      "Covariance Type:            nonrobust                                                  \n",
      "==============================================================================\n",
      "                 coef    std err          t      P>|t|      [0.025      0.975]\n",
      "------------------------------------------------------------------------------\n",
      "test_diff      0.5534      0.555      0.998      0.340      -0.668       1.774\n",
      "hdi           -0.4396      0.520     -0.846      0.416      -1.583       0.704\n",
      "governance     0.7055      0.369      1.912      0.082      -0.107       1.518\n",
      "pche          -0.0758      0.668     -0.114      0.912      -1.545       1.394\n",
      "==============================================================================\n",
      "Omnibus:                        0.302   Durbin-Watson:                   1.605\n",
      "Prob(Omnibus):                  0.860   Jarque-Bera (JB):                0.434\n",
      "Skew:                          -0.249   Prob(JB):                        0.805\n",
      "Kurtosis:                       2.332   Cond. No.                         12.2\n",
      "==============================================================================\n",
      "\n",
      "Notes:\n",
      "[1] R² is computed without centering (uncentered) since the model does not contain a constant.\n",
      "[2] Standard Errors assume that the covariance matrix of the errors is correctly specified.\n"
     ]
    },
    {
     "name": "stderr",
     "output_type": "stream",
     "text": [
      "/opt/hostedtoolcache/Python/3.6.15/x64/lib/python3.6/site-packages/scipy/stats/stats.py:1604: UserWarning: kurtosistest only valid for n>=20 ... continuing anyway, n=15\n",
      "  \"anyway, n=%i\" % int(n))\n"
     ]
    }
   ],
   "source": [
    "model = sm.OLS(y, X)\n",
    "results = model.fit()\n",
    "print(results.summary())"
   ]
  },
  {
   "cell_type": "markdown",
   "id": "cultural-judgment",
   "metadata": {
    "papermill": {
     "duration": 0.014489,
     "end_time": "2022-04-07T03:45:54.781495",
     "exception": false,
     "start_time": "2022-04-07T03:45:54.767006",
     "status": "completed"
    },
    "tags": []
   },
   "source": [
    "### Add Interaction Term"
   ]
  },
  {
   "cell_type": "code",
   "execution_count": 11,
   "id": "occasional-winning",
   "metadata": {
    "execution": {
     "iopub.execute_input": "2022-04-07T03:45:54.816922Z",
     "iopub.status.busy": "2022-04-07T03:45:54.816317Z",
     "iopub.status.idle": "2022-04-07T03:45:54.818638Z",
     "shell.execute_reply": "2022-04-07T03:45:54.818138Z"
    },
    "papermill": {
     "duration": 0.022604,
     "end_time": "2022-04-07T03:45:54.818757",
     "exception": false,
     "start_time": "2022-04-07T03:45:54.796153",
     "status": "completed"
    },
    "tags": []
   },
   "outputs": [],
   "source": [
    "ind_data2['xterm'] = ind_data2['test_diff']*ind_data2['hdi']"
   ]
  },
  {
   "cell_type": "code",
   "execution_count": 12,
   "id": "parental-vietnam",
   "metadata": {
    "execution": {
     "iopub.execute_input": "2022-04-07T03:45:54.854303Z",
     "iopub.status.busy": "2022-04-07T03:45:54.853778Z",
     "iopub.status.idle": "2022-04-07T03:45:54.856064Z",
     "shell.execute_reply": "2022-04-07T03:45:54.855625Z"
    },
    "papermill": {
     "duration": 0.022217,
     "end_time": "2022-04-07T03:45:54.856179",
     "exception": false,
     "start_time": "2022-04-07T03:45:54.833962",
     "status": "completed"
    },
    "tags": []
   },
   "outputs": [],
   "source": [
    "X = ind_data2[['test_diff', 'hdi', 'governance', 'pche', 'xterm']]"
   ]
  },
  {
   "cell_type": "code",
   "execution_count": 13,
   "id": "portable-papua",
   "metadata": {
    "execution": {
     "iopub.execute_input": "2022-04-07T03:45:54.890546Z",
     "iopub.status.busy": "2022-04-07T03:45:54.890032Z",
     "iopub.status.idle": "2022-04-07T03:45:54.900717Z",
     "shell.execute_reply": "2022-04-07T03:45:54.901293Z"
    },
    "papermill": {
     "duration": 0.030665,
     "end_time": "2022-04-07T03:45:54.901431",
     "exception": false,
     "start_time": "2022-04-07T03:45:54.870766",
     "status": "completed"
    },
    "tags": []
   },
   "outputs": [
    {
     "name": "stdout",
     "output_type": "stream",
     "text": [
      "                                 OLS Regression Results                                \n",
      "=======================================================================================\n",
      "Dep. Variable:                      y   R-squared (uncentered):                   0.760\n",
      "Model:                            OLS   Adj. R-squared (uncentered):              0.640\n",
      "Method:                 Least Squares   F-statistic:                              6.340\n",
      "Date:                Thu, 07 Apr 2022   Prob (F-statistic):                     0.00666\n",
      "Time:                        03:45:54   Log-Likelihood:                       -0.060217\n",
      "No. Observations:                  15   AIC:                                      10.12\n",
      "Df Residuals:                      10   BIC:                                      13.66\n",
      "Df Model:                           5                                                  \n",
      "Covariance Type:            nonrobust                                                  \n",
      "==============================================================================\n",
      "                 coef    std err          t      P>|t|      [0.025      0.975]\n",
      "------------------------------------------------------------------------------\n",
      "test_diff      1.2916      0.874      1.478      0.170      -0.656       3.239\n",
      "hdi           -0.2276      0.551     -0.413      0.688      -1.455       1.000\n",
      "governance     0.5859      0.382      1.533      0.156      -0.266       1.437\n",
      "pche          -0.2638      0.684     -0.385      0.708      -1.789       1.261\n",
      "xterm         -1.0424      0.959     -1.087      0.302      -3.179       1.094\n",
      "==============================================================================\n",
      "Omnibus:                        0.960   Durbin-Watson:                   1.801\n",
      "Prob(Omnibus):                  0.619   Jarque-Bera (JB):                0.446\n",
      "Skew:                          -0.415   Prob(JB):                        0.800\n",
      "Kurtosis:                       2.848   Cond. No.                         17.8\n",
      "==============================================================================\n",
      "\n",
      "Notes:\n",
      "[1] R² is computed without centering (uncentered) since the model does not contain a constant.\n",
      "[2] Standard Errors assume that the covariance matrix of the errors is correctly specified.\n"
     ]
    },
    {
     "name": "stderr",
     "output_type": "stream",
     "text": [
      "/opt/hostedtoolcache/Python/3.6.15/x64/lib/python3.6/site-packages/scipy/stats/stats.py:1604: UserWarning: kurtosistest only valid for n>=20 ... continuing anyway, n=15\n",
      "  \"anyway, n=%i\" % int(n))\n"
     ]
    }
   ],
   "source": [
    "model2 = sm.OLS(y, X)\n",
    "results2 = model2.fit()\n",
    "print(results2.summary())"
   ]
  },
  {
   "cell_type": "markdown",
   "id": "perfect-angel",
   "metadata": {
    "papermill": {
     "duration": 0.015194,
     "end_time": "2022-04-07T03:45:54.931884",
     "exception": false,
     "start_time": "2022-04-07T03:45:54.916690",
     "status": "completed"
    },
    "tags": []
   },
   "source": [
    "### Misc Analysis"
   ]
  },
  {
   "cell_type": "code",
   "execution_count": 14,
   "id": "unexpected-capture",
   "metadata": {
    "execution": {
     "iopub.execute_input": "2022-04-07T03:45:54.966818Z",
     "iopub.status.busy": "2022-04-07T03:45:54.966308Z",
     "iopub.status.idle": "2022-04-07T03:45:54.971172Z",
     "shell.execute_reply": "2022-04-07T03:45:54.970765Z"
    },
    "papermill": {
     "duration": 0.024064,
     "end_time": "2022-04-07T03:45:54.971280",
     "exception": false,
     "start_time": "2022-04-07T03:45:54.947216",
     "status": "completed"
    },
    "tags": []
   },
   "outputs": [
    {
     "data": {
      "text/plain": [
       "(1.56889693867147, 0.38823518172143395)"
      ]
     },
     "execution_count": 14,
     "metadata": {},
     "output_type": "execute_result"
    }
   ],
   "source": [
    "sm.stats.linear_rainbow(results)"
   ]
  },
  {
   "cell_type": "code",
   "execution_count": 15,
   "id": "seeing-canon",
   "metadata": {
    "execution": {
     "iopub.execute_input": "2022-04-07T03:45:55.007351Z",
     "iopub.status.busy": "2022-04-07T03:45:55.006785Z",
     "iopub.status.idle": "2022-04-07T03:45:55.619355Z",
     "shell.execute_reply": "2022-04-07T03:45:55.620074Z"
    },
    "papermill": {
     "duration": 0.633626,
     "end_time": "2022-04-07T03:45:55.620232",
     "exception": false,
     "start_time": "2022-04-07T03:45:54.986606",
     "status": "completed"
    },
    "tags": []
   },
   "outputs": [
    {
     "name": "stderr",
     "output_type": "stream",
     "text": [
      "findfont: Font family ['sans-serif'] not found. Falling back to DejaVu Sans.\n"
     ]
    },
    {
     "name": "stderr",
     "output_type": "stream",
     "text": [
      "findfont: Font family ['sans-serif'] not found. Falling back to DejaVu Sans.\n"
     ]
    },
    {
     "name": "stderr",
     "output_type": "stream",
     "text": [
      "findfont: Font family ['sans-serif'] not found. Falling back to DejaVu Sans.\n"
     ]
    },
    {
     "data": {
      "image/png": "[encoded data removed]",
      "text/plain": [
       "<Figure size 432x288 with 1 Axes>"
      ]
     },
     "execution_count": 15,
     "metadata": {},
     "output_type": "execute_result"
    },
    {
     "data": {
      "image/png": "[encoded data removed]",
      "text/plain": [
       "<Figure size 432x288 with 1 Axes>"
      ]
     },
     "metadata": {
      "needs_background": "light"
     },
     "output_type": "display_data"
    }
   ],
   "source": [
    "sm.graphics.plot_partregress('rt_diff', 'test_diff', ['hdi', 'governance', 'pche'], data=ind_data2, obs_labels=False)"
   ]
  },
  {
   "cell_type": "code",
   "execution_count": 16,
   "id": "necessary-chosen",
   "metadata": {
    "execution": {
     "iopub.execute_input": "2022-04-07T03:45:55.661323Z",
     "iopub.status.busy": "2022-04-07T03:45:55.660794Z",
     "iopub.status.idle": "2022-04-07T03:45:55.664715Z",
     "shell.execute_reply": "2022-04-07T03:45:55.664182Z"
    },
    "papermill": {
     "duration": 0.02663,
     "end_time": "2022-04-07T03:45:55.664829",
     "exception": false,
     "start_time": "2022-04-07T03:45:55.638199",
     "status": "completed"
    },
    "tags": []
   },
   "outputs": [
    {
     "name": "stdout",
     "output_type": "stream",
     "text": [
      "[ 1.29155843 -0.22758562  0.58588266 -0.2638172  -1.04244082]\n"
     ]
    }
   ],
   "source": [
    "model = sm.OLS(y, X)\n",
    "results = model.fit_regularized(L1_wt=0.0)\n",
    "print(results.params)"
   ]
  }
 ],
 "metadata": {
  "kernelspec": {
   "display_name": "Python 3",
   "language": "python",
   "name": "python3"
  },
  "language_info": {
   "codemirror_mode": {
    "name": "ipython",
    "version": 3
   },
   "file_extension": ".py",
   "mimetype": "text/x-python",
   "name": "python",
   "nbconvert_exporter": "python",
   "pygments_lexer": "ipython3",
   "version": "3.6.15"
  },
  "papermill": {
   "duration": 3.878324,
   "end_time": "2022-04-07T03:45:56.101552",
   "environment_variables": {},
   "exception": null,
   "input_path": "Rt_MLR_Indian_States.ipynb",
   "output_path": "Rt_MLR_Indian_States.ipynb",
   "parameters": {},
   "start_time": "2022-04-07T03:45:52.223228",
   "version": "2.1.1"
  }
 },
 "nbformat": 4,
 "nbformat_minor": 5
}